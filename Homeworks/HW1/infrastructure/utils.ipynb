{
 "cells": [
  {
   "cell_type": "code",
   "execution_count": 4,
   "metadata": {},
   "outputs": [],
   "source": [
    "import numpy as np\n",
    "import time\n",
    "import scipy"
   ]
  },
  {
   "cell_type": "code",
   "execution_count": 2,
   "metadata": {},
   "outputs": [],
   "source": [
    "def sample_trajectory(env, policy, max_path_length, render=False, render_mode=('rgb_array')):\n",
    "    \n",
    "    ob = env.reset()\n",
    "    \n",
    "    obs, acs, rewards, next_obs, terminals, image_obs = [], [], [], [], [], []\n",
    "    \n",
    "    steps = 0\n",
    "    \n",
    "    while True:\n",
    "        \n",
    "        # render image\n",
    "        \n",
    "        if render:\n",
    "            if 'rgb_array' in render_mode:\n",
    "                if hasattr(env,'sim'):\n",
    "                    image_obs.append(env.sim.render(camera_name='track', height=500, width=500)[::-1])\n",
    "                else:\n",
    "                    image_obs.append(env.render(mode=render_mode))\n",
    "                    \n",
    "            if 'human' in render_mode:\n",
    "                env.render(mode=render_mode)\n",
    "                time.sleep(env.model.opt.timestep)\n",
    "        \n",
    "        # use the most recent ob to decide what to do\n",
    "        \n",
    "        obs.append(ob)\n",
    "        ac = policy.get_action(ob)\n",
    "        ac = ac[0]\n",
    "        acs.append(ac)\n",
    "    \n",
    "    "
   ]
  },
  {
   "cell_type": "code",
   "execution_count": 3,
   "metadata": {},
   "outputs": [
    {
     "data": {
      "text/plain": [
       "array([ 4.33941884e-02,  1.89844563e-05, -4.59158292e-02, -3.73652281e-02])"
      ]
     },
     "execution_count": 3,
     "metadata": {},
     "output_type": "execute_result"
    }
   ],
   "source": [
    "env.reset()"
   ]
  },
  {
   "cell_type": "code",
   "execution_count": null,
   "metadata": {},
   "outputs": [],
   "source": []
  }
 ],
 "metadata": {
  "kernelspec": {
   "display_name": "Python 3",
   "language": "python",
   "name": "python3"
  },
  "language_info": {
   "codemirror_mode": {
    "name": "ipython",
    "version": 3
   },
   "file_extension": ".py",
   "mimetype": "text/x-python",
   "name": "python",
   "nbconvert_exporter": "python",
   "pygments_lexer": "ipython3",
   "version": "3.6.12"
  }
 },
 "nbformat": 4,
 "nbformat_minor": 4
}
