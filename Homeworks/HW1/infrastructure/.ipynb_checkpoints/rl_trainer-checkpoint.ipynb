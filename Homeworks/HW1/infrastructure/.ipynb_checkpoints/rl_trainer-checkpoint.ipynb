{
 "cells": [
  {
   "cell_type": "code",
   "execution_count": 2,
   "metadata": {},
   "outputs": [],
   "source": [
    "import time\n",
    "from collections import OrderedDict\n",
    "import pickle\n",
    "import numpy as np\n",
    "import tensorflow as tf\n",
    "import gym\n",
    "import os\n",
    "\n",
    "#from utils import *\n",
    "from logger import Logger"
   ]
  },
  {
   "cell_type": "code",
   "execution_count": 2,
   "metadata": {},
   "outputs": [],
   "source": [
    "MAX_NVIDEO = 2\n",
    "MAX_VIDEO_LEN = 40"
   ]
  },
  {
   "cell_type": "code",
   "execution_count": null,
   "metadata": {},
   "outputs": [],
   "source": [
    "class RL_Trainer:\n",
    "    \n",
    "    def __init__(self, params):\n",
    "        \n",
    "        #############\n",
    "        ## INIT\n",
    "        #############\n",
    "        \n",
    "        self.params = params\n",
    "        self.logger = Logger(self.params['logdir'])\n",
    "        \n",
    "        seed = self.aparms['seed']\n",
    "        tf.random.set_seed(seed)\n",
    "        np.random.seed(seed)\n",
    "        \n",
    "        #############\n",
    "        ## ENV\n",
    "        #############\n",
    "        \n",
    "        self.env = gym.make(self.params['env_name'])\n",
    "        self.env.seed(seed)\n",
    "        \n",
    "        self.params['ep_len'] = self.params['ep_len'] or self.env.spec.max_episode_steps\n",
    "        \n",
    "        discrete = isinstance(self.env.action_space, gym.spaces.Discrete)\n",
    "        self.params['agent_params']['discrete'] = discrete\n",
    "        \n",
    "        ob_dim = self.env.observation_space.shape[0]\n",
    "        ac_dim = self.env.action_space.n if discrete else self.env.action_space.shape[0]\n",
    "        self.params['agent_params']['ac_dim'] = ac_dim\n",
    "        self.params['agent_params']['ob_dim'] = ob_dim\n",
    "        \n",
    "        if 'model' in dir(self.env):\n",
    "            self.fps = 1/self.env.model.opt.timestep\n",
    "        else:\n",
    "            self.fps = self.env.env.metadata['video.frames_per_second']\n",
    "            \n",
    "        #############\n",
    "        ## AGENT\n",
    "        #############\n",
    "        \n",
    "        agent_class = self.params['agent_class']\n",
    "        self.agent = agent_class(self.env, self.params['agent_params'])\n",
    "    \n",
    "    def run_training_loop(self, n_iter, collect_policy, eval_policy,\n",
    "                          initial_expertdata=None, relabel_with_expert=False, \n",
    "                          start_relabel_with_expert=1, expert_policy=None):\n",
    "        \n",
    "        \n",
    "        \n",
    "        \n",
    "        \n",
    "        "
   ]
  },
  {
   "cell_type": "code",
   "execution_count": 5,
   "metadata": {},
   "outputs": [],
   "source": []
  },
  {
   "cell_type": "code",
   "execution_count": null,
   "metadata": {},
   "outputs": [],
   "source": []
  },
  {
   "cell_type": "code",
   "execution_count": null,
   "metadata": {},
   "outputs": [],
   "source": []
  }
 ],
 "metadata": {
  "kernelspec": {
   "display_name": "Python (spinningup)",
   "language": "python",
   "name": "spinningup"
  },
  "language_info": {
   "codemirror_mode": {
    "name": "ipython",
    "version": 3
   },
   "file_extension": ".py",
   "mimetype": "text/x-python",
   "name": "python",
   "nbconvert_exporter": "python",
   "pygments_lexer": "ipython3",
   "version": "3.6.12"
  }
 },
 "nbformat": 4,
 "nbformat_minor": 4
}
