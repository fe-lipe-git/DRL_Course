{
 "cells": [
  {
   "cell_type": "code",
   "execution_count": 3,
   "metadata": {},
   "outputs": [],
   "source": [
    "import tensorflow as tf\n",
    "from tensorflow.keras.layers import Dense, Flatten, Conv2D\n",
    "from tensorflow.keras import Model\n",
    "from sklearn.model_selection import train_test_split\n",
    "\n",
    "import os\n",
    "\n",
    "import numpy as np\n",
    "\n",
    "import altair as alt\n",
    "from vega_datasets import data"
   ]
  },
  {
   "cell_type": "code",
   "execution_count": 6,
   "metadata": {},
   "outputs": [],
   "source": [
    "class build_mlp(Model):\n",
    "    \n",
    "    def __init__(self, n_layers, size, size_output, activation = tf.tanh, output_activation=None):\n",
    "        \n",
    "        super(build_mlp,self).__init__()\n",
    "        self.layers_mlp = [Dense(size,activation=activation) for _ in range(n_layers-1)]\n",
    "        self.outputLayer = Dense(size_output, activation=output_activation)\n",
    "        \n",
    "    def call(self,input_data):\n",
    "        \n",
    "        x=input_data\n",
    "        for layer in self.layers_mlp:\n",
    "            \n",
    "            x = layer(x)\n",
    "            \n",
    "        return self.outputLayer(x)"
   ]
  },
  {
   "cell_type": "code",
   "execution_count": 7,
   "metadata": {},
   "outputs": [],
   "source": [
    "def lrelu(x, leak=0.2):\n",
    "    \n",
    "    f1 = 0.5 * (1 + leak)\n",
    "    f2 = 0.5 * (1 - leak)\n",
    "    return f1 * x + f2 * abs(x)"
   ]
  }
 ],
 "metadata": {
  "kernelspec": {
   "display_name": "Python 3",
   "language": "python",
   "name": "python3"
  },
  "language_info": {
   "codemirror_mode": {
    "name": "ipython",
    "version": 3
   },
   "file_extension": ".py",
   "mimetype": "text/x-python",
   "name": "python",
   "nbconvert_exporter": "python",
   "pygments_lexer": "ipython3",
   "version": "3.6.12"
  }
 },
 "nbformat": 4,
 "nbformat_minor": 4
}
