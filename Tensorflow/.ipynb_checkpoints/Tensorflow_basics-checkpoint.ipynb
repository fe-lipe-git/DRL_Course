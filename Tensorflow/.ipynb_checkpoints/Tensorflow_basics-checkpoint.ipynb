{
 "cells": [
  {
   "cell_type": "markdown",
   "metadata": {},
   "source": [
    "## Tensorflow para iniciantes\n",
    "\n",
    "Código tirado de [Ínicio rápido do TensorFlow 2 para iniciantes](https://www.tensorflow.org/tutorials/quickstart/beginner?hl=pt-br)\n",
    "\n",
    "Notebook com o tutorial para iniciantes do Tensorflow, contendo:\n",
    "\n",
    "1. Construção de uma rede neural que classifica as imagens\n",
    "2. Treinamento da rede neural\n",
    "3. Avaliação da precisão do modelo"
   ]
  },
  {
   "cell_type": "code",
   "execution_count": 37,
   "metadata": {},
   "outputs": [],
   "source": [
    "import tensorflow as tf\n",
    "from tensorflow.keras.layers import Dense, Flatten, Conv2D\n",
    "from tensorflow.keras import Model\n",
    "from sklearn.model_selection import train_test_split\n",
    "\n",
    "import matplotlib.pyplot as plt\n",
    "import numpy as np\n",
    "\n",
    "import altair as alt\n",
    "from vega_datasets import data"
   ]
  },
  {
   "cell_type": "code",
   "execution_count": 117,
   "metadata": {},
   "outputs": [
    {
     "data": {
      "image/png": "[encoded data removed]",
      "text/plain": [
       "<Figure size 432x288 with 2 Axes>"
      ]
     },
     "metadata": {
      "needs_background": "light"
     },
     "output_type": "display_data"
    }
   ],
   "source": [
    "mnist = tf.keras.datasets.mnist\n",
    "(x_train, y_train),(x_test,y_test) = mnist.load_data()\n",
    "x_train, x_test = x_train/255.0, x_test/255.0 # normalizando cada input x para estar entre 0 e 1.\n",
    "\n",
    "plt.figure()\n",
    "plt.imshow(x_train[1000])\n",
    "plt.colorbar()\n",
    "plt.grid(False)\n",
    "plt.show()"
   ]
  },
  {
   "cell_type": "code",
   "execution_count": 8,
   "metadata": {},
   "outputs": [],
   "source": [
    "model = tf.keras.models.Sequential([\n",
    "    \n",
    "    tf.keras.layers.Flatten(input_shape=(28,28)),\n",
    "    tf.keras.layers.Dense(128,activation='relu'),\n",
    "    tf.keras.layers.Dropout(0.2),\n",
    "    tf.keras.layers.Dense(10)\n",
    "    \n",
    "])"
   ]
  },
  {
   "cell_type": "code",
   "execution_count": 11,
   "metadata": {},
   "outputs": [
    {
     "name": "stdout",
     "output_type": "stream",
     "text": [
      "[[ 0.35290924 -0.13006863  0.37570456 -0.13025099 -1.0882034  -0.98905027\n",
      "  -0.13637975 -0.60390997  0.85044765  0.40520984]]\n",
      "[[0.13422163 0.08280715 0.13731639 0.08279206 0.03176546 0.03507655\n",
      "  0.0822862  0.05155623 0.22074999 0.14142832]]\n"
     ]
    }
   ],
   "source": [
    "predictions = model(x_train[:1]).numpy()\n",
    "print(predictions)\n",
    "print(tf.nn.softmax(predictions).numpy())"
   ]
  },
  {
   "cell_type": "code",
   "execution_count": 12,
   "metadata": {},
   "outputs": [
    {
     "data": {
      "text/plain": [
       "3.3502226"
      ]
     },
     "execution_count": 12,
     "metadata": {},
     "output_type": "execute_result"
    }
   ],
   "source": [
    "loss_fn = tf.keras.losses.SparseCategoricalCrossentropy(from_logits = True)\n",
    "loss_fn(y_train[:1],predictions).numpy()"
   ]
  },
  {
   "cell_type": "code",
   "execution_count": 13,
   "metadata": {},
   "outputs": [
    {
     "name": "stdout",
     "output_type": "stream",
     "text": [
      "Epoch 1/5\n",
      "1875/1875 [==============================] - 1s 729us/step - loss: 0.2939 - accuracy: 0.9151\n",
      "Epoch 2/5\n",
      "1875/1875 [==============================] - 1s 751us/step - loss: 0.1412 - accuracy: 0.9579\n",
      "Epoch 3/5\n",
      "1875/1875 [==============================] - 1s 673us/step - loss: 0.1047 - accuracy: 0.9681\n",
      "Epoch 4/5\n",
      "1875/1875 [==============================] - 1s 660us/step - loss: 0.0854 - accuracy: 0.9732\n",
      "Epoch 5/5\n",
      "1875/1875 [==============================] - 1s 657us/step - loss: 0.0730 - accuracy: 0.9767\n"
     ]
    },
    {
     "data": {
      "text/plain": [
       "<tensorflow.python.keras.callbacks.History at 0x7f2e600d5a90>"
      ]
     },
     "execution_count": 13,
     "metadata": {},
     "output_type": "execute_result"
    }
   ],
   "source": [
    "model.compile(optimizer='adam',loss=loss_fn,metrics=['accuracy'])\n",
    "\n",
    "model.fit(x_train, y_train, epochs=5)"
   ]
  },
  {
   "cell_type": "code",
   "execution_count": 14,
   "metadata": {},
   "outputs": [
    {
     "name": "stdout",
     "output_type": "stream",
     "text": [
      "313/313 - 0s - loss: 0.0808 - accuracy: 0.9754\n"
     ]
    },
    {
     "data": {
      "text/plain": [
       "[0.08078116178512573, 0.9753999710083008]"
      ]
     },
     "execution_count": 14,
     "metadata": {},
     "output_type": "execute_result"
    }
   ],
   "source": [
    "model.evaluate(x_test, y_test, verbose=2)"
   ]
  },
  {
   "cell_type": "code",
   "execution_count": 24,
   "metadata": {},
   "outputs": [
    {
     "data": {
      "text/plain": [
       "array([[0., 0., 0., 0., 0., 0., 0., 1., 0., 0.]], dtype=float32)"
      ]
     },
     "execution_count": 24,
     "metadata": {},
     "output_type": "execute_result"
    }
   ],
   "source": [
    "probability_model = tf.keras.Sequential([model, tf.keras.layers.Softmax()])\n",
    "\n",
    "np.round(probability_model(x_test[:1]).numpy())"
   ]
  },
  {
   "cell_type": "markdown",
   "metadata": {},
   "source": [
    "# Tensorflow para usuários avançados\n",
    "\n",
    "Código tirado de [Ínicio rápido do TensorFlow 2 para especialistas](https://www.tensorflow.org/tutorials/quickstart/advanced?hl=pt-br)"
   ]
  },
  {
   "cell_type": "code",
   "execution_count": 118,
   "metadata": {},
   "outputs": [
    {
     "data": {
      "image/png": "[encoded data removed]",
      "text/plain": [
       "<Figure size 432x288 with 2 Axes>"
      ]
     },
     "metadata": {
      "needs_background": "light"
     },
     "output_type": "display_data"
    }
   ],
   "source": [
    "plt.figure()\n",
    "plt.imshow(x_train[50])\n",
    "plt.colorbar()\n",
    "plt.grid(False)\n",
    "plt.show()"
   ]
  },
  {
   "cell_type": "code",
   "execution_count": 119,
   "metadata": {},
   "outputs": [
    {
     "data": {
      "text/plain": [
       "(28, 28)"
      ]
     },
     "execution_count": 119,
     "metadata": {},
     "output_type": "execute_result"
    }
   ],
   "source": [
    "x_train[1].shape"
   ]
  },
  {
   "cell_type": "code",
   "execution_count": 120,
   "metadata": {},
   "outputs": [],
   "source": [
    "x_train = x_train[..., tf.newaxis].astype('float32')\n",
    "x_test = x_test[...,tf.newaxis].astype('float32')"
   ]
  },
  {
   "cell_type": "code",
   "execution_count": 121,
   "metadata": {},
   "outputs": [
    {
     "data": {
      "text/plain": [
       "(28, 28, 1)"
      ]
     },
     "execution_count": 121,
     "metadata": {},
     "output_type": "execute_result"
    }
   ],
   "source": [
    "x_train[1].shape"
   ]
  },
  {
   "cell_type": "code",
   "execution_count": 122,
   "metadata": {},
   "outputs": [],
   "source": [
    "train_ds = tf.data.Dataset.from_tensor_slices((x_train,y_train)).shuffle(10000).batch(32)\n",
    "test_ds = tf.data.Dataset.from_tensor_slices((x_test,y_test)).batch(32)"
   ]
  },
  {
   "cell_type": "code",
   "execution_count": 115,
   "metadata": {},
   "outputs": [
    {
     "data": {
      "text/plain": [
       "<BatchDataset shapes: ((None, 28, 28, 1), (None,)), types: (tf.float32, tf.uint8)>"
      ]
     },
     "execution_count": 115,
     "metadata": {},
     "output_type": "execute_result"
    }
   ],
   "source": [
    "train_ds"
   ]
  },
  {
   "cell_type": "code",
   "execution_count": 123,
   "metadata": {},
   "outputs": [],
   "source": [
    "class MyModel(Model):\n",
    "    \n",
    "    def __init__(self):\n",
    "        \n",
    "        super(MyModel,self).__init__()\n",
    "        self.conv1 = Conv2D(32,3,activation='relu')\n",
    "        self.flatten = Flatten()\n",
    "        self.d1 = Dense(128, activation='relu')\n",
    "        self.d2 = Dense(10)\n",
    "        \n",
    "    def call(self,x):\n",
    "        \n",
    "        x = self.conv1(x)\n",
    "        x = self.flatten(x)\n",
    "        x = self.d1(x)\n",
    "        return self.d2(x)"
   ]
  },
  {
   "cell_type": "code",
   "execution_count": 124,
   "metadata": {},
   "outputs": [],
   "source": [
    "model = MyModel()"
   ]
  },
  {
   "cell_type": "code",
   "execution_count": 125,
   "metadata": {},
   "outputs": [],
   "source": [
    "loss_object = tf.keras.losses.SparseCategoricalCrossentropy(from_logits=True)\n",
    "optimizer = tf.keras.optimizers.Adam()"
   ]
  },
  {
   "cell_type": "code",
   "execution_count": 127,
   "metadata": {},
   "outputs": [],
   "source": [
    "train_loss = tf.keras.metrics.Mean(name='train_loss')\n",
    "train_accuracy = tf.keras.metrics.SparseCategoricalAccuracy(name='train_accuracy')\n",
    "\n",
    "test_loss = tf.keras.metrics.Mean(name='test_loss')\n",
    "test_accuracy = tf.keras.metrics.SparseCategoricalAccuracy(name='test_accuracy')"
   ]
  },
  {
   "cell_type": "code",
   "execution_count": 128,
   "metadata": {},
   "outputs": [
    {
     "name": "stdout",
     "output_type": "stream",
     "text": [
      "Epoch 1, Loss: 0.13568860292434692, Accuracy: 95.97666931152344, Test Loss: 0.05908207222819328, Test Accuracy: 98.0\n",
      "Epoch 2, Loss: 0.04327867180109024, Accuracy: 98.64500427246094, Test Loss: 0.053121019154787064, Test Accuracy: 98.0999984741211\n",
      "Epoch 3, Loss: 0.02115294151008129, Accuracy: 99.3066635131836, Test Loss: 0.07335184514522552, Test Accuracy: 97.75\n",
      "Epoch 4, Loss: 0.014663823880255222, Accuracy: 99.48833465576172, Test Loss: 0.057686060667037964, Test Accuracy: 98.30999755859375\n",
      "Epoch 5, Loss: 0.010109527967870235, Accuracy: 99.68333435058594, Test Loss: 0.07037628442049026, Test Accuracy: 98.07999420166016\n"
     ]
    }
   ],
   "source": [
    "@tf.function\n",
    "def train_step(images, labels):\n",
    "    \n",
    "    with tf.GradientTape() as tape:\n",
    "        \n",
    "        predictions = model(images, training=True)\n",
    "        loss = loss_object(labels, predictions)\n",
    "        \n",
    "        gradients = tape.gradient(loss, model.trainable_variables)\n",
    "        optimizer.apply_gradients(zip(gradients, model.trainable_variables))\n",
    "    \n",
    "        train_loss(loss)\n",
    "        train_accuracy(labels, predictions)\n",
    "        \n",
    "@tf.function\n",
    "def test_step(images, labels):\n",
    "    \n",
    "    predictions = model(images, training=False)\n",
    "    t_loss = loss_object(labels, predictions)\n",
    "    \n",
    "    test_loss(t_loss)\n",
    "    test_accuracy(labels, predictions)\n",
    "    \n",
    "EPOCHS = 5\n",
    "\n",
    "for epoch in range(EPOCHS):\n",
    "    \n",
    "    train_loss.reset_states()\n",
    "    train_accuracy.reset_states()\n",
    "    test_loss.reset_states()\n",
    "    test_accuracy.reset_states()\n",
    "    \n",
    "    for images, labels in train_ds:\n",
    "        train_step(images,labels)\n",
    "    \n",
    "    for test_images, test_labels in test_ds:\n",
    "        test_step(test_images, test_labels)\n",
    "        \n",
    "    template = 'Epoch {}, Loss: {}, Accuracy: {}, Test Loss: {}, Test Accuracy: {}'\n",
    "    print(template.format(epoch + 1,\n",
    "                          train_loss.result(),\n",
    "                          train_accuracy.result() * 100,\n",
    "                          test_loss.result(),\n",
    "                          test_accuracy.result() * 100))\n",
    "\n",
    "\n",
    "\n"
   ]
  },
  {
   "cell_type": "markdown",
   "metadata": {},
   "source": [
    "# Iris Classification Neural Network\n",
    "\n",
    "Este é o exemplo contido em [Rubik's Code](https://rubikscode.net/2019/04/22/ultimate-guide-to-tensorflow-2-0-in-python/)\n",
    "\n",
    "Dataset itself was first introduced by Ronald Fisher back in 1936. Ronald was British statistician and botanist and he used this example in his paper The use of multiple measurements in taxonomic problems. The dataset contains 3 classes of 50 instances each. Each class refers to one type of iris plant: Iris setosa, Iris virginica, and Iris versicolor. First class is linearly separable from the other two, but the latter two are not linearly separable from each other. Each record has five attributes:\n",
    "\n",
    "- Sepal length in cm\n",
    "- Sepal width in cm\n",
    "- Petal length in cm\n",
    "- Petal width in cm\n",
    "- Class (Iris setosa, Iris virginica, Iris versicolor)"
   ]
  },
  {
   "cell_type": "code",
   "execution_count": 85,
   "metadata": {},
   "outputs": [
    {
     "data": {
      "text/html": [
       "<div>\n",
       "<style scoped>\n",
       "    .dataframe tbody tr th:only-of-type {\n",
       "        vertical-align: middle;\n",
       "    }\n",
       "\n",
       "    .dataframe tbody tr th {\n",
       "        vertical-align: top;\n",
       "    }\n",
       "\n",
       "    .dataframe thead th {\n",
       "        text-align: right;\n",
       "    }\n",
       "</style>\n",
       "<table border=\"1\" class=\"dataframe\">\n",
       "  <thead>\n",
       "    <tr style=\"text-align: right;\">\n",
       "      <th></th>\n",
       "      <th>sepalLength</th>\n",
       "      <th>sepalWidth</th>\n",
       "      <th>petalLength</th>\n",
       "      <th>petalWidth</th>\n",
       "      <th>species</th>\n",
       "    </tr>\n",
       "  </thead>\n",
       "  <tbody>\n",
       "    <tr>\n",
       "      <th>0</th>\n",
       "      <td>5.1</td>\n",
       "      <td>3.5</td>\n",
       "      <td>1.4</td>\n",
       "      <td>0.2</td>\n",
       "      <td>setosa</td>\n",
       "    </tr>\n",
       "    <tr>\n",
       "      <th>1</th>\n",
       "      <td>4.9</td>\n",
       "      <td>3.0</td>\n",
       "      <td>1.4</td>\n",
       "      <td>0.2</td>\n",
       "      <td>setosa</td>\n",
       "    </tr>\n",
       "    <tr>\n",
       "      <th>2</th>\n",
       "      <td>4.7</td>\n",
       "      <td>3.2</td>\n",
       "      <td>1.3</td>\n",
       "      <td>0.2</td>\n",
       "      <td>setosa</td>\n",
       "    </tr>\n",
       "    <tr>\n",
       "      <th>3</th>\n",
       "      <td>4.6</td>\n",
       "      <td>3.1</td>\n",
       "      <td>1.5</td>\n",
       "      <td>0.2</td>\n",
       "      <td>setosa</td>\n",
       "    </tr>\n",
       "    <tr>\n",
       "      <th>4</th>\n",
       "      <td>5.0</td>\n",
       "      <td>3.6</td>\n",
       "      <td>1.4</td>\n",
       "      <td>0.2</td>\n",
       "      <td>setosa</td>\n",
       "    </tr>\n",
       "  </tbody>\n",
       "</table>\n",
       "</div>"
      ],
      "text/plain": [
       "   sepalLength  sepalWidth  petalLength  petalWidth species\n",
       "0          5.1         3.5          1.4         0.2  setosa\n",
       "1          4.9         3.0          1.4         0.2  setosa\n",
       "2          4.7         3.2          1.3         0.2  setosa\n",
       "3          4.6         3.1          1.5         0.2  setosa\n",
       "4          5.0         3.6          1.4         0.2  setosa"
      ]
     },
     "execution_count": 85,
     "metadata": {},
     "output_type": "execute_result"
    }
   ],
   "source": [
    "data_iris = data.iris()\n",
    "data_iris.head()"
   ]
  },
  {
   "cell_type": "code",
   "execution_count": 86,
   "metadata": {},
   "outputs": [
    {
     "data": {
      "text/plain": [
       "sepalLength    float64\n",
       "sepalWidth     float64\n",
       "petalLength    float64\n",
       "petalWidth     float64\n",
       "species         object\n",
       "dtype: object"
      ]
     },
     "execution_count": 86,
     "metadata": {},
     "output_type": "execute_result"
    }
   ],
   "source": [
    "data_iris.dtypes"
   ]
  },
  {
   "cell_type": "code",
   "execution_count": 87,
   "metadata": {},
   "outputs": [
    {
     "data": {
      "text/plain": [
       "array(['setosa', 'versicolor', 'virginica'], dtype=object)"
      ]
     },
     "execution_count": 87,
     "metadata": {},
     "output_type": "execute_result"
    }
   ],
   "source": [
    "data_iris['species'].unique()"
   ]
  },
  {
   "cell_type": "code",
   "execution_count": 89,
   "metadata": {},
   "outputs": [],
   "source": [
    "data_iris.loc[data_iris['species']=='setosa','species'] = 0\n",
    "data_iris.loc[data_iris['species']=='versicolor','species'] = 1\n",
    "data_iris.loc[data_iris['species']=='virginica','species'] = 2"
   ]
  },
  {
   "cell_type": "code",
   "execution_count": 90,
   "metadata": {},
   "outputs": [
    {
     "data": {
      "text/plain": [
       "array([0, 1, 2], dtype=object)"
      ]
     },
     "execution_count": 90,
     "metadata": {},
     "output_type": "execute_result"
    }
   ],
   "source": [
    "data_iris['species'].unique()"
   ]
  },
  {
   "cell_type": "code",
   "execution_count": 91,
   "metadata": {},
   "outputs": [
    {
     "data": {
      "text/plain": [
       "sepalLength     float64\n",
       "sepalWidth      float64\n",
       "petalLength     float64\n",
       "petalWidth      float64\n",
       "species        category\n",
       "dtype: object"
      ]
     },
     "execution_count": 91,
     "metadata": {},
     "output_type": "execute_result"
    }
   ],
   "source": [
    "data_iris['species'] = data_iris['species'].astype('category')\n",
    "data_iris.dtypes"
   ]
  },
  {
   "cell_type": "code",
   "execution_count": 69,
   "metadata": {},
   "outputs": [
    {
     "name": "stdout",
     "output_type": "stream",
     "text": [
      "sepalLength    0\n",
      "sepalWidth     0\n",
      "petalLength    0\n",
      "petalWidth     0\n",
      "species        0\n",
      "dtype: int64\n"
     ]
    }
   ],
   "source": [
    "print(data_iris.isnull().sum())"
   ]
  },
  {
   "cell_type": "code",
   "execution_count": 31,
   "metadata": {},
   "outputs": [
    {
     "data": {
      "text/html": [
       "<div>\n",
       "<style scoped>\n",
       "    .dataframe tbody tr th:only-of-type {\n",
       "        vertical-align: middle;\n",
       "    }\n",
       "\n",
       "    .dataframe tbody tr th {\n",
       "        vertical-align: top;\n",
       "    }\n",
       "\n",
       "    .dataframe thead th {\n",
       "        text-align: right;\n",
       "    }\n",
       "</style>\n",
       "<table border=\"1\" class=\"dataframe\">\n",
       "  <thead>\n",
       "    <tr style=\"text-align: right;\">\n",
       "      <th></th>\n",
       "      <th>variable</th>\n",
       "      <th>variable2</th>\n",
       "      <th>correlation</th>\n",
       "      <th>correlation_label</th>\n",
       "    </tr>\n",
       "  </thead>\n",
       "  <tbody>\n",
       "    <tr>\n",
       "      <th>0</th>\n",
       "      <td>sepalLength</td>\n",
       "      <td>sepalLength</td>\n",
       "      <td>1.000000</td>\n",
       "      <td>1.00</td>\n",
       "    </tr>\n",
       "    <tr>\n",
       "      <th>1</th>\n",
       "      <td>sepalLength</td>\n",
       "      <td>sepalWidth</td>\n",
       "      <td>-0.117570</td>\n",
       "      <td>-0.12</td>\n",
       "    </tr>\n",
       "    <tr>\n",
       "      <th>2</th>\n",
       "      <td>sepalLength</td>\n",
       "      <td>petalLength</td>\n",
       "      <td>0.871754</td>\n",
       "      <td>0.87</td>\n",
       "    </tr>\n",
       "    <tr>\n",
       "      <th>3</th>\n",
       "      <td>sepalLength</td>\n",
       "      <td>petalWidth</td>\n",
       "      <td>0.817941</td>\n",
       "      <td>0.82</td>\n",
       "    </tr>\n",
       "    <tr>\n",
       "      <th>4</th>\n",
       "      <td>sepalWidth</td>\n",
       "      <td>sepalLength</td>\n",
       "      <td>-0.117570</td>\n",
       "      <td>-0.12</td>\n",
       "    </tr>\n",
       "  </tbody>\n",
       "</table>\n",
       "</div>"
      ],
      "text/plain": [
       "      variable    variable2  correlation correlation_label\n",
       "0  sepalLength  sepalLength     1.000000              1.00\n",
       "1  sepalLength   sepalWidth    -0.117570             -0.12\n",
       "2  sepalLength  petalLength     0.871754              0.87\n",
       "3  sepalLength   petalWidth     0.817941              0.82\n",
       "4   sepalWidth  sepalLength    -0.117570             -0.12"
      ]
     },
     "execution_count": 31,
     "metadata": {},
     "output_type": "execute_result"
    }
   ],
   "source": [
    "# codigo de https://towardsdatascience.com/altair-plot-deconstruction-visualizing-the-correlation-structure-of-weather-data-38fb5668c5b1\n",
    "\n",
    "corrMat = data_iris[['sepalLength','sepalWidth','petalLength','petalWidth','species']].corr().stack()\\\n",
    ".reset_index().rename(columns={'level_0':'variable', 'level_1':'variable2', 0:'correlation'})\n",
    "corrMat['correlation_label'] = corrMat['correlation'].map('{:.2f}'.format)\n",
    "\n",
    "corrMat.head()"
   ]
  },
  {
   "cell_type": "code",
   "execution_count": 36,
   "metadata": {},
   "outputs": [
    {
     "data": {
      "text/html": [
       "\n",
       "<div id=\"altair-viz-97cc9bd5e55a4e59ab4d38446446df9c\"></div>\n",
       "<script type=\"text/javascript\">\n",
       "  (function(spec, embedOpt){\n",
       "    let outputDiv = document.currentScript.previousElementSibling;\n",
       "    if (outputDiv.id !== \"altair-viz-97cc9bd5e55a4e59ab4d38446446df9c\") {\n",
       "      outputDiv = document.getElementById(\"altair-viz-97cc9bd5e55a4e59ab4d38446446df9c\");\n",
       "    }\n",
       "    const paths = {\n",
       "      \"vega\": \"https://cdn.jsdelivr.net/npm//vega@5?noext\",\n",
       "      \"vega-lib\": \"https://cdn.jsdelivr.net/npm//vega-lib?noext\",\n",
       "      \"vega-lite\": \"https://cdn.jsdelivr.net/npm//vega-lite@4.8.1?noext\",\n",
       "      \"vega-embed\": \"https://cdn.jsdelivr.net/npm//vega-embed@6?noext\",\n",
       "    };\n",
       "\n",
       "    function loadScript(lib) {\n",
       "      return new Promise(function(resolve, reject) {\n",
       "        var s = document.createElement('script');\n",
       "        s.src = paths[lib];\n",
       "        s.async = true;\n",
       "        s.onload = () => resolve(paths[lib]);\n",
       "        s.onerror = () => reject(`Error loading script: ${paths[lib]}`);\n",
       "        document.getElementsByTagName(\"head\")[0].appendChild(s);\n",
       "      });\n",
       "    }\n",
       "\n",
       "    function showError(err) {\n",
       "      outputDiv.innerHTML = `<div class=\"error\" style=\"color:red;\">${err}</div>`;\n",
       "      throw err;\n",
       "    }\n",
       "\n",
       "    function displayChart(vegaEmbed) {\n",
       "      vegaEmbed(outputDiv, spec, embedOpt)\n",
       "        .catch(err => showError(`Javascript Error: ${err.message}<br>This usually means there's a typo in your chart specification. See the javascript console for the full traceback.`));\n",
       "    }\n",
       "\n",
       "    if(typeof define === \"function\" && define.amd) {\n",
       "      requirejs.config({paths});\n",
       "      require([\"vega-embed\"], displayChart, err => showError(`Error loading script: ${err.message}`));\n",
       "    } else if (typeof vegaEmbed === \"function\") {\n",
       "      displayChart(vegaEmbed);\n",
       "    } else {\n",
       "      loadScript(\"vega\")\n",
       "        .then(() => loadScript(\"vega-lite\"))\n",
       "        .then(() => loadScript(\"vega-embed\"))\n",
       "        .catch(showError)\n",
       "        .then(() => displayChart(vegaEmbed));\n",
       "    }\n",
       "  })({\"config\": {\"view\": {\"continuousWidth\": 400, \"continuousHeight\": 300}}, \"layer\": [{\"mark\": \"rect\", \"encoding\": {\"color\": {\"type\": \"quantitative\", \"field\": \"correlation\"}, \"x\": {\"type\": \"ordinal\", \"field\": \"variable2\"}, \"y\": {\"type\": \"ordinal\", \"field\": \"variable\"}}, \"height\": 600, \"width\": 600}, {\"mark\": \"text\", \"encoding\": {\"color\": {\"condition\": {\"value\": \"white\", \"test\": \"(datum.correlation > 0.5)\"}, \"value\": \"black\"}, \"text\": {\"type\": \"nominal\", \"field\": \"correlation_label\"}, \"x\": {\"type\": \"ordinal\", \"field\": \"variable2\"}, \"y\": {\"type\": \"ordinal\", \"field\": \"variable\"}}, \"height\": 600, \"width\": 600}], \"data\": {\"name\": \"data-1f832cbaedcd28bb2b231607d1cb90f4\"}, \"$schema\": \"https://vega.github.io/schema/vega-lite/v4.8.1.json\", \"datasets\": {\"data-1f832cbaedcd28bb2b231607d1cb90f4\": [{\"variable\": \"sepalLength\", \"variable2\": \"sepalLength\", \"correlation\": 1.0, \"correlation_label\": \"1.00\"}, {\"variable\": \"sepalLength\", \"variable2\": \"sepalWidth\", \"correlation\": -0.11756978413300205, \"correlation_label\": \"-0.12\"}, {\"variable\": \"sepalLength\", \"variable2\": \"petalLength\", \"correlation\": 0.8717537758865828, \"correlation_label\": \"0.87\"}, {\"variable\": \"sepalLength\", \"variable2\": \"petalWidth\", \"correlation\": 0.8179411262715759, \"correlation_label\": \"0.82\"}, {\"variable\": \"sepalWidth\", \"variable2\": \"sepalLength\", \"correlation\": -0.11756978413300205, \"correlation_label\": \"-0.12\"}, {\"variable\": \"sepalWidth\", \"variable2\": \"sepalWidth\", \"correlation\": 1.0, \"correlation_label\": \"1.00\"}, {\"variable\": \"sepalWidth\", \"variable2\": \"petalLength\", \"correlation\": -0.42844010433054003, \"correlation_label\": \"-0.43\"}, {\"variable\": \"sepalWidth\", \"variable2\": \"petalWidth\", \"correlation\": -0.3661259325364395, \"correlation_label\": \"-0.37\"}, {\"variable\": \"petalLength\", \"variable2\": \"sepalLength\", \"correlation\": 0.8717537758865828, \"correlation_label\": \"0.87\"}, {\"variable\": \"petalLength\", \"variable2\": \"sepalWidth\", \"correlation\": -0.42844010433054003, \"correlation_label\": \"-0.43\"}, {\"variable\": \"petalLength\", \"variable2\": \"petalLength\", \"correlation\": 1.0, \"correlation_label\": \"1.00\"}, {\"variable\": \"petalLength\", \"variable2\": \"petalWidth\", \"correlation\": 0.9628654314027955, \"correlation_label\": \"0.96\"}, {\"variable\": \"petalWidth\", \"variable2\": \"sepalLength\", \"correlation\": 0.8179411262715759, \"correlation_label\": \"0.82\"}, {\"variable\": \"petalWidth\", \"variable2\": \"sepalWidth\", \"correlation\": -0.3661259325364395, \"correlation_label\": \"-0.37\"}, {\"variable\": \"petalWidth\", \"variable2\": \"petalLength\", \"correlation\": 0.9628654314027955, \"correlation_label\": \"0.96\"}, {\"variable\": \"petalWidth\", \"variable2\": \"petalWidth\", \"correlation\": 1.0, \"correlation_label\": \"1.00\"}]}}, {\"mode\": \"vega-lite\"});\n",
       "</script>"
      ],
      "text/plain": [
       "alt.LayerChart(...)"
      ]
     },
     "execution_count": 36,
     "metadata": {},
     "output_type": "execute_result"
    }
   ],
   "source": [
    "base = alt.Chart(corrMat,height=600,width=600).encode(alt.X('variable2:O'),alt.Y('variable:O'))\n",
    "\n",
    "text = base.mark_text().encode(text='correlation_label',\\\n",
    "                               color=alt.condition(alt.datum.correlation>0.5,\n",
    "                                                  alt.value('white'),\n",
    "                                                  alt.value('black')))\n",
    "\n",
    "cor_plot = base.mark_rect().encode(color='correlation:Q')\n",
    "\n",
    "cor_plot + text"
   ]
  },
  {
   "cell_type": "code",
   "execution_count": 92,
   "metadata": {},
   "outputs": [],
   "source": [
    "output_data = data_iris['species']\n",
    "input_data = data_iris.drop('species', axis=1)\n",
    "x_train, x_test, y_train, y_test = train_test_split(input_data,output_data,test_size=0.3, random_state=42)"
   ]
  },
  {
   "cell_type": "code",
   "execution_count": 71,
   "metadata": {},
   "outputs": [
    {
     "name": "stdout",
     "output_type": "stream",
     "text": [
      "     sepalLength  sepalWidth  petalLength  petalWidth\n",
      "100          6.3         3.3          6.0         2.5\n"
     ]
    }
   ],
   "source": [
    "print(input_data.iloc[[100]])"
   ]
  },
  {
   "cell_type": "code",
   "execution_count": 49,
   "metadata": {},
   "outputs": [],
   "source": []
  },
  {
   "cell_type": "code",
   "execution_count": 74,
   "metadata": {},
   "outputs": [
    {
     "data": {
      "text/plain": [
       "2"
      ]
     },
     "execution_count": 74,
     "metadata": {},
     "output_type": "execute_result"
    }
   ],
   "source": [
    "y_train[100]"
   ]
  },
  {
   "cell_type": "code",
   "execution_count": 54,
   "metadata": {},
   "outputs": [],
   "source": [
    "#y_train = tf.keras.utils.to_categorical(y_train,1)\n",
    "#y_test = tf.keras.utils.to_categorical(y_test,1)"
   ]
  },
  {
   "cell_type": "code",
   "execution_count": 97,
   "metadata": {},
   "outputs": [],
   "source": [
    "class IrisClassifier(Model):\n",
    "    \n",
    "    def __init__(self):\n",
    "        \n",
    "        super(IrisClassifier,self).__init__()\n",
    "        self.layer1 = Dense(10, activation='relu')\n",
    "        self.layer2 = Dense(10, activation='relu')\n",
    "        self.outputLayer = Dense(3, activation='softmax')\n",
    "        \n",
    "    def call(self,x):\n",
    "            \n",
    "        x = self.layer1(x)\n",
    "        x = self.layer2(x)\n",
    "        return self.outputLayer(x)\n",
    "       \n",
    "        \n",
    "model = IrisClassifier()\n",
    "\n",
    "#loss_fn = tf.keras.losses.SparseCategoricalCrossentropy(from_logits=True)\n",
    "\n",
    "model.compile(optimizer = tf.keras.optimizers.Adam(),\n",
    "             loss = 'sparse_categorical_crossentropy',\n",
    "             metrics = ['accuracy'])"
   ]
  },
  {
   "cell_type": "code",
   "execution_count": 98,
   "metadata": {},
   "outputs": [
    {
     "name": "stdout",
     "output_type": "stream",
     "text": [
      "Epoch 1/50\n",
      "WARNING:tensorflow:Layer iris_classifier_9 is casting an input tensor from dtype float64 to the layer's dtype of float32, which is new behavior in TensorFlow 2.  The layer has dtype float32 because it's dtype defaults to floatx.\n",
      "\n",
      "If you intended to run this layer in float32, you can safely ignore this warning. If in doubt, this warning is likely only an issue if you are porting a TensorFlow 1.X model to TensorFlow 2.\n",
      "\n",
      "To change all layers to have dtype float64 by default, call `tf.keras.backend.set_floatx('float64')`. To change just this layer, pass dtype='float64' to the layer constructor. If you are the author of this layer, you can disable autocasting by passing autocast=False to the base Layer constructor.\n",
      "\n",
      "11/11 [==============================] - 0s 497us/step - loss: 1.8819 - accuracy: 0.2952\n",
      "Epoch 2/50\n",
      "11/11 [==============================] - 0s 484us/step - loss: 1.4351 - accuracy: 0.2952\n",
      "Epoch 3/50\n",
      "11/11 [==============================] - 0s 486us/step - loss: 1.1569 - accuracy: 0.4286\n",
      "Epoch 4/50\n",
      "11/11 [==============================] - 0s 469us/step - loss: 0.9928 - accuracy: 0.6286\n",
      "Epoch 5/50\n",
      "11/11 [==============================] - 0s 704us/step - loss: 0.9006 - accuracy: 0.5810\n",
      "Epoch 6/50\n",
      "11/11 [==============================] - 0s 617us/step - loss: 0.8558 - accuracy: 0.4381\n",
      "Epoch 7/50\n",
      "11/11 [==============================] - 0s 630us/step - loss: 0.8426 - accuracy: 0.4476\n",
      "Epoch 8/50\n",
      "11/11 [==============================] - 0s 691us/step - loss: 0.8265 - accuracy: 0.6286\n",
      "Epoch 9/50\n",
      "11/11 [==============================] - 0s 515us/step - loss: 0.8102 - accuracy: 0.6286\n",
      "Epoch 10/50\n",
      "11/11 [==============================] - 0s 554us/step - loss: 0.7939 - accuracy: 0.5238\n",
      "Epoch 11/50\n",
      "11/11 [==============================] - 0s 519us/step - loss: 0.7808 - accuracy: 0.4857\n",
      "Epoch 12/50\n",
      "11/11 [==============================] - 0s 722us/step - loss: 0.7593 - accuracy: 0.5143\n",
      "Epoch 13/50\n",
      "11/11 [==============================] - 0s 547us/step - loss: 0.7415 - accuracy: 0.6286\n",
      "Epoch 14/50\n",
      "11/11 [==============================] - 0s 539us/step - loss: 0.7266 - accuracy: 0.6190\n",
      "Epoch 15/50\n",
      "11/11 [==============================] - 0s 481us/step - loss: 0.7109 - accuracy: 0.6286\n",
      "Epoch 16/50\n",
      "11/11 [==============================] - 0s 775us/step - loss: 0.6964 - accuracy: 0.6476\n",
      "Epoch 17/50\n",
      "11/11 [==============================] - 0s 489us/step - loss: 0.6821 - accuracy: 0.6476\n",
      "Epoch 18/50\n",
      "11/11 [==============================] - 0s 571us/step - loss: 0.6705 - accuracy: 0.6476\n",
      "Epoch 19/50\n",
      "11/11 [==============================] - 0s 495us/step - loss: 0.6551 - accuracy: 0.7048\n",
      "Epoch 20/50\n",
      "11/11 [==============================] - 0s 539us/step - loss: 0.6443 - accuracy: 0.6667\n",
      "Epoch 21/50\n",
      "11/11 [==============================] - 0s 525us/step - loss: 0.6298 - accuracy: 0.6571\n",
      "Epoch 22/50\n",
      "11/11 [==============================] - 0s 535us/step - loss: 0.6190 - accuracy: 0.6857\n",
      "Epoch 23/50\n",
      "11/11 [==============================] - 0s 580us/step - loss: 0.6098 - accuracy: 0.7048\n",
      "Epoch 24/50\n",
      "11/11 [==============================] - 0s 458us/step - loss: 0.5995 - accuracy: 0.6762\n",
      "Epoch 25/50\n",
      "11/11 [==============================] - 0s 548us/step - loss: 0.5886 - accuracy: 0.6762\n",
      "Epoch 26/50\n",
      "11/11 [==============================] - 0s 468us/step - loss: 0.5770 - accuracy: 0.7524\n",
      "Epoch 27/50\n",
      "11/11 [==============================] - 0s 543us/step - loss: 0.5664 - accuracy: 0.7429\n",
      "Epoch 28/50\n",
      "11/11 [==============================] - 0s 482us/step - loss: 0.5572 - accuracy: 0.7238\n",
      "Epoch 29/50\n",
      "11/11 [==============================] - 0s 515us/step - loss: 0.5495 - accuracy: 0.7810\n",
      "Epoch 30/50\n",
      "11/11 [==============================] - 0s 536us/step - loss: 0.5393 - accuracy: 0.8095\n",
      "Epoch 31/50\n",
      "11/11 [==============================] - 0s 505us/step - loss: 0.5269 - accuracy: 0.7048\n",
      "Epoch 32/50\n",
      "11/11 [==============================] - 0s 513us/step - loss: 0.5154 - accuracy: 0.7429\n",
      "Epoch 33/50\n",
      "11/11 [==============================] - 0s 558us/step - loss: 0.5074 - accuracy: 0.8667\n",
      "Epoch 34/50\n",
      "11/11 [==============================] - 0s 556us/step - loss: 0.4958 - accuracy: 0.8095\n",
      "Epoch 35/50\n",
      "11/11 [==============================] - 0s 604us/step - loss: 0.4812 - accuracy: 0.8667\n",
      "Epoch 36/50\n",
      "11/11 [==============================] - 0s 524us/step - loss: 0.4789 - accuracy: 0.8952\n",
      "Epoch 37/50\n",
      "11/11 [==============================] - 0s 552us/step - loss: 0.4653 - accuracy: 0.9238\n",
      "Epoch 38/50\n",
      "11/11 [==============================] - 0s 542us/step - loss: 0.4613 - accuracy: 0.9048\n",
      "Epoch 39/50\n",
      "11/11 [==============================] - 0s 490us/step - loss: 0.4509 - accuracy: 0.8952\n",
      "Epoch 40/50\n",
      "11/11 [==============================] - 0s 733us/step - loss: 0.4418 - accuracy: 0.9048\n",
      "Epoch 41/50\n",
      "11/11 [==============================] - 0s 487us/step - loss: 0.4342 - accuracy: 0.9143\n",
      "Epoch 42/50\n",
      "11/11 [==============================] - 0s 559us/step - loss: 0.4255 - accuracy: 0.9143\n",
      "Epoch 43/50\n",
      "11/11 [==============================] - 0s 487us/step - loss: 0.4183 - accuracy: 0.9143\n",
      "Epoch 44/50\n",
      "11/11 [==============================] - 0s 573us/step - loss: 0.4142 - accuracy: 0.9143\n",
      "Epoch 45/50\n",
      "11/11 [==============================] - 0s 457us/step - loss: 0.4008 - accuracy: 0.9333\n",
      "Epoch 46/50\n",
      "11/11 [==============================] - 0s 557us/step - loss: 0.3953 - accuracy: 0.9143\n",
      "Epoch 47/50\n",
      "11/11 [==============================] - 0s 537us/step - loss: 0.3937 - accuracy: 0.9333\n",
      "Epoch 48/50\n",
      "11/11 [==============================] - 0s 543us/step - loss: 0.3828 - accuracy: 0.9429\n",
      "Epoch 49/50\n",
      "11/11 [==============================] - 0s 486us/step - loss: 0.3767 - accuracy: 0.9333\n",
      "Epoch 50/50\n",
      "11/11 [==============================] - 0s 667us/step - loss: 0.3678 - accuracy: 0.9333\n"
     ]
    },
    {
     "data": {
      "text/plain": [
       "<tensorflow.python.keras.callbacks.History at 0x7f31905d4250>"
      ]
     },
     "execution_count": 98,
     "metadata": {},
     "output_type": "execute_result"
    }
   ],
   "source": [
    "model.fit(x_train,y_train,epochs=50,batch_size=10)"
   ]
  },
  {
   "cell_type": "code",
   "execution_count": 99,
   "metadata": {},
   "outputs": [
    {
     "name": "stdout",
     "output_type": "stream",
     "text": [
      "Model: \"iris_classifier_9\"\n",
      "_________________________________________________________________\n",
      "Layer (type)                 Output Shape              Param #   \n",
      "=================================================================\n",
      "dense_27 (Dense)             multiple                  50        \n",
      "_________________________________________________________________\n",
      "dense_28 (Dense)             multiple                  110       \n",
      "_________________________________________________________________\n",
      "dense_29 (Dense)             multiple                  33        \n",
      "=================================================================\n",
      "Total params: 193\n",
      "Trainable params: 193\n",
      "Non-trainable params: 0\n",
      "_________________________________________________________________\n"
     ]
    }
   ],
   "source": [
    "model.summary()"
   ]
  },
  {
   "cell_type": "code",
   "execution_count": 100,
   "metadata": {},
   "outputs": [
    {
     "name": "stdout",
     "output_type": "stream",
     "text": [
      "2/2 [==============================] - 0s 641us/step - loss: 0.3114 - accuracy: 0.9333\n",
      "\n",
      "Accuracy: 93.33%\n"
     ]
    }
   ],
   "source": [
    "scores = model.evaluate(x_test,y_test)\n",
    "print('\\nAccuracy: %.2f%%' % (scores[1]*100))"
   ]
  },
  {
   "cell_type": "code",
   "execution_count": 106,
   "metadata": {},
   "outputs": [
    {
     "data": {
      "text/html": [
       "<div>\n",
       "<style scoped>\n",
       "    .dataframe tbody tr th:only-of-type {\n",
       "        vertical-align: middle;\n",
       "    }\n",
       "\n",
       "    .dataframe tbody tr th {\n",
       "        vertical-align: top;\n",
       "    }\n",
       "\n",
       "    .dataframe thead th {\n",
       "        text-align: right;\n",
       "    }\n",
       "</style>\n",
       "<table border=\"1\" class=\"dataframe\">\n",
       "  <thead>\n",
       "    <tr style=\"text-align: right;\">\n",
       "      <th></th>\n",
       "      <th>Iris0</th>\n",
       "      <th>Iris1</th>\n",
       "      <th>Iris2</th>\n",
       "    </tr>\n",
       "  </thead>\n",
       "  <tbody>\n",
       "    <tr>\n",
       "      <th>0</th>\n",
       "      <td>0.0169</td>\n",
       "      <td>0.4914</td>\n",
       "      <td>0.4917</td>\n",
       "    </tr>\n",
       "    <tr>\n",
       "      <th>1</th>\n",
       "      <td>0.9427</td>\n",
       "      <td>0.0539</td>\n",
       "      <td>0.0034</td>\n",
       "    </tr>\n",
       "    <tr>\n",
       "      <th>2</th>\n",
       "      <td>0.0001</td>\n",
       "      <td>0.1055</td>\n",
       "      <td>0.8944</td>\n",
       "    </tr>\n",
       "    <tr>\n",
       "      <th>3</th>\n",
       "      <td>0.0225</td>\n",
       "      <td>0.5308</td>\n",
       "      <td>0.4467</td>\n",
       "    </tr>\n",
       "    <tr>\n",
       "      <th>4</th>\n",
       "      <td>0.0232</td>\n",
       "      <td>0.5894</td>\n",
       "      <td>0.3874</td>\n",
       "    </tr>\n",
       "  </tbody>\n",
       "</table>\n",
       "</div>"
      ],
      "text/plain": [
       "    Iris0   Iris1   Iris2\n",
       "0  0.0169  0.4914  0.4917\n",
       "1  0.9427  0.0539  0.0034\n",
       "2  0.0001  0.1055  0.8944\n",
       "3  0.0225  0.5308  0.4467\n",
       "4  0.0232  0.5894  0.3874"
      ]
     },
     "execution_count": 106,
     "metadata": {},
     "output_type": "execute_result"
    }
   ],
   "source": [
    "prediction = model.predict(x_test)\n",
    "prediction1 = pd.DataFrame({'Iris0':prediction[:,0],'Iris1':prediction[:,1],'Iris2':prediction[:,2]})\n",
    "prediction1.round(decimals=4).head()"
   ]
  },
  {
   "cell_type": "code",
   "execution_count": 105,
   "metadata": {},
   "outputs": [
    {
     "data": {
      "text/plain": [
       "73     1\n",
       "18     0\n",
       "118    2\n",
       "78     1\n",
       "76     1\n",
       "Name: species, dtype: category\n",
       "Categories (3, int64): [0, 1, 2]"
      ]
     },
     "execution_count": 105,
     "metadata": {},
     "output_type": "execute_result"
    }
   ],
   "source": [
    "y_test.head()"
   ]
  },
  {
   "cell_type": "code",
   "execution_count": null,
   "metadata": {},
   "outputs": [],
   "source": []
  }
 ],
 "metadata": {
  "kernelspec": {
   "display_name": "Python 3",
   "language": "python",
   "name": "python3"
  },
  "language_info": {
   "codemirror_mode": {
    "name": "ipython",
    "version": 3
   },
   "file_extension": ".py",
   "mimetype": "text/x-python",
   "name": "python",
   "nbconvert_exporter": "python",
   "pygments_lexer": "ipython3",
   "version": "3.8.3"
  }
 },
 "nbformat": 4,
 "nbformat_minor": 4
}
